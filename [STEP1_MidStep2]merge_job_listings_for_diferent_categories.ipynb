{
 "cells": [
  {
   "cell_type": "code",
   "execution_count": null,
   "metadata": {},
   "outputs": [
    {
     "name": "stdout",
     "output_type": "stream",
     "text": [
      "Merging complete! Merged files are saved in: ./Merged_Job_Listings\n"
     ]
    }
   ],
   "source": [
    "import os\n",
    "import json\n",
    "from collections import defaultdict\n",
    "\n",
    "# Define the directory containing the folders\n",
    "base_directory = \"./job_listings\"\n",
    "\n",
    "# Initialize a dictionary to hold merged data for each file name\n",
    "merged_data = defaultdict(list)\n",
    "\n",
    "# Walk through each folder in the base directory\n",
    "for folder_name in os.listdir(base_directory):\n",
    "    folder_path = os.path.join(base_directory, folder_name)\n",
    "    if os.path.isdir(folder_path):  # Check if it is a folder\n",
    "        for file_name in os.listdir(folder_path):\n",
    "            if file_name.startswith(\"job_listings_\") and file_name.endswith(\".json\"):\n",
    "                file_path = os.path.join(folder_path, file_name)\n",
    "                with open(file_path, \"r\") as file:\n",
    "                    try:\n",
    "                        data = json.load(file)\n",
    "                        merged_data[file_name].extend(data)\n",
    "                    except json.JSONDecodeError as e:\n",
    "                        print(f\"Error reading {file_path}: {e}\")\n",
    "\n",
    "# Remove duplicate entries in the merged data (if needed)\n",
    "for file_name, records in merged_data.items():\n",
    "    unique_records = {json.dumps(record, sort_keys=True): record for record in records}\n",
    "    merged_data[file_name] = list(unique_records.values())\n",
    "\n",
    "# Save the merged data to a new directory\n",
    "output_directory = \"./Merged_Job_Listings\"\n",
    "os.makedirs(output_directory, exist_ok=True)\n",
    "\n",
    "for file_name, data in merged_data.items():\n",
    "    output_path = os.path.join(output_directory, file_name)\n",
    "    with open(output_path, \"w\") as output_file:\n",
    "        json.dump(data, output_file, indent=4)\n",
    "\n",
    "print(\"Merging complete! Merged files are saved in:\", output_directory)\n"
   ]
  }
 ],
 "metadata": {
  "kernelspec": {
   "display_name": "base",
   "language": "python",
   "name": "python3"
  },
  "language_info": {
   "codemirror_mode": {
    "name": "ipython",
    "version": 3
   },
   "file_extension": ".py",
   "mimetype": "text/x-python",
   "name": "python",
   "nbconvert_exporter": "python",
   "pygments_lexer": "ipython3",
   "version": "3.12.4"
  }
 },
 "nbformat": 4,
 "nbformat_minor": 2
}
