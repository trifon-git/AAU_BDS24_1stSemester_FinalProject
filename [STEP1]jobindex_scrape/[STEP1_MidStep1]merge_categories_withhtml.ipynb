{
 "cells": [
  {
   "cell_type": "code",
   "execution_count": 1,
   "metadata": {},
   "outputs": [
    {
     "name": "stdout",
     "output_type": "stream",
     "text": [
      "Merged job listings saved to ./final_withhtml_withcategories\n"
     ]
    }
   ],
   "source": [
    "import os\n",
    "import json\n",
    "from collections import defaultdict\n",
    "\n",
    "# Directories for the folders\n",
    "folder_1 = \"./Merged_Job_Listings_with_ArchiveLink\"\n",
    "folder_2 = \"./final_withhtml\"\n",
    "output_directory = \"./final_withhtml_withcategories\"\n",
    "\n",
    "# Fields to keep in the merged data\n",
    "fields_to_keep = [\n",
    "    \"Title\", \"URL\", \"Area\", \"Category_Job_ID\", \"Category_Job\", \n",
    "    \"Published\", \"Job Link\", \"HTML_Text\"\n",
    "]\n",
    "\n",
    "# Function to load all JSON files from a folder\n",
    "def load_json_files(folder_path):\n",
    "    all_jobs = {}\n",
    "    for file_name in os.listdir(folder_path):\n",
    "        file_path = os.path.join(folder_path, file_name)\n",
    "        if file_name.endswith(\".json\") and os.path.isfile(file_path):\n",
    "            with open(file_path, \"r\", encoding=\"utf-8\") as f:\n",
    "                try:\n",
    "                    data = json.load(f)\n",
    "                    for job in data:\n",
    "                        job_link = job.get(\"Job Link\")\n",
    "                        if job_link:\n",
    "                            all_jobs[job_link] = job\n",
    "                except json.JSONDecodeError as e:\n",
    "                    print(f\"Error reading {file_path}: {e}\")\n",
    "    return all_jobs\n",
    "\n",
    "# Load job listings from both folders\n",
    "jobs_folder_1 = load_json_files(folder_1)\n",
    "jobs_folder_2 = load_json_files(folder_2)\n",
    "\n",
    "# Merge job listings by Job Link\n",
    "merged_jobs_by_date = defaultdict(list)\n",
    "for job_link, job in jobs_folder_1.items():\n",
    "    merged_job = {key: job.get(key) for key in fields_to_keep}\n",
    "    if job_link in jobs_folder_2:\n",
    "        # Update with additional information from folder 2\n",
    "        for key in fields_to_keep:\n",
    "            merged_job[key] = jobs_folder_2[job_link].get(key, merged_job.get(key))\n",
    "    published_date = merged_job.get(\"Published\")\n",
    "    if published_date:\n",
    "        merged_jobs_by_date[published_date].append(merged_job)\n",
    "\n",
    "# Ensure output directory exists\n",
    "os.makedirs(output_directory, exist_ok=True)\n",
    "\n",
    "# Save each day's job listings to a separate file\n",
    "for date, jobs in merged_jobs_by_date.items():\n",
    "    output_file = os.path.join(output_directory, f\"job_listings_{date.replace('-', '')}.json\")\n",
    "    with open(output_file, \"w\", encoding=\"utf-8\") as f:\n",
    "        json.dump(jobs, f, indent=4, ensure_ascii=False)\n",
    "\n",
    "print(f\"Merged job listings saved to {output_directory}\")\n"
   ]
  }
 ],
 "metadata": {
  "kernelspec": {
   "display_name": "base",
   "language": "python",
   "name": "python3"
  },
  "language_info": {
   "codemirror_mode": {
    "name": "ipython",
    "version": 3
   },
   "file_extension": ".py",
   "mimetype": "text/x-python",
   "name": "python",
   "nbconvert_exporter": "python",
   "pygments_lexer": "ipython3",
   "version": "3.12.4"
  }
 },
 "nbformat": 4,
 "nbformat_minor": 2
}
